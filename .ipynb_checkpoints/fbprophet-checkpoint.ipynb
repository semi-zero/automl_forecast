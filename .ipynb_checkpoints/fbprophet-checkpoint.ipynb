{
 "cells": [
  {
   "cell_type": "code",
   "execution_count": 1,
   "id": "ed5497f8-0b80-4409-aeff-e958ebe60906",
   "metadata": {},
   "outputs": [],
   "source": [
    "import pandas as pd\n",
    "import numpy as np\n",
    "import matplotlib.pyplot as plt\n",
    "import seaborn as sns\n",
    "from datetime import datetime, timedelta\n",
    "import warnings\n",
    "\n",
    "TH = 0.98"
   ]
  },
  {
   "cell_type": "code",
   "execution_count": 2,
   "id": "12804722-b3db-4487-95ea-6d0486327e08",
   "metadata": {},
   "outputs": [],
   "source": [
    "#데이터 인코딩 문제"
   ]
  },
  {
   "cell_type": "code",
   "execution_count": 3,
   "id": "3445c80f-833a-4353-981e-aa34fa2b090b",
   "metadata": {},
   "outputs": [
    {
     "data": {
      "text/html": [
       "<div>\n",
       "<style scoped>\n",
       "    .dataframe tbody tr th:only-of-type {\n",
       "        vertical-align: middle;\n",
       "    }\n",
       "\n",
       "    .dataframe tbody tr th {\n",
       "        vertical-align: top;\n",
       "    }\n",
       "\n",
       "    .dataframe thead th {\n",
       "        text-align: right;\n",
       "    }\n",
       "</style>\n",
       "<table border=\"1\" class=\"dataframe\">\n",
       "  <thead>\n",
       "    <tr style=\"text-align: right;\">\n",
       "      <th></th>\n",
       "      <th>InvoiceNo</th>\n",
       "      <th>StockCode</th>\n",
       "      <th>Description</th>\n",
       "      <th>Quantity</th>\n",
       "      <th>InvoiceDate</th>\n",
       "      <th>UnitPrice</th>\n",
       "      <th>CustomerID</th>\n",
       "      <th>Country</th>\n",
       "    </tr>\n",
       "  </thead>\n",
       "  <tbody>\n",
       "    <tr>\n",
       "      <th>0</th>\n",
       "      <td>536365</td>\n",
       "      <td>85123A</td>\n",
       "      <td>WHITE HANGING HEART T-LIGHT HOLDER</td>\n",
       "      <td>6</td>\n",
       "      <td>12/1/2010 8:26</td>\n",
       "      <td>2.55</td>\n",
       "      <td>17850.0</td>\n",
       "      <td>United Kingdom</td>\n",
       "    </tr>\n",
       "    <tr>\n",
       "      <th>1</th>\n",
       "      <td>536365</td>\n",
       "      <td>71053</td>\n",
       "      <td>WHITE METAL LANTERN</td>\n",
       "      <td>6</td>\n",
       "      <td>12/1/2010 8:26</td>\n",
       "      <td>3.39</td>\n",
       "      <td>17850.0</td>\n",
       "      <td>United Kingdom</td>\n",
       "    </tr>\n",
       "    <tr>\n",
       "      <th>2</th>\n",
       "      <td>536365</td>\n",
       "      <td>84406B</td>\n",
       "      <td>CREAM CUPID HEARTS COAT HANGER</td>\n",
       "      <td>8</td>\n",
       "      <td>12/1/2010 8:26</td>\n",
       "      <td>2.75</td>\n",
       "      <td>17850.0</td>\n",
       "      <td>United Kingdom</td>\n",
       "    </tr>\n",
       "    <tr>\n",
       "      <th>3</th>\n",
       "      <td>536365</td>\n",
       "      <td>84029G</td>\n",
       "      <td>KNITTED UNION FLAG HOT WATER BOTTLE</td>\n",
       "      <td>6</td>\n",
       "      <td>12/1/2010 8:26</td>\n",
       "      <td>3.39</td>\n",
       "      <td>17850.0</td>\n",
       "      <td>United Kingdom</td>\n",
       "    </tr>\n",
       "    <tr>\n",
       "      <th>4</th>\n",
       "      <td>536365</td>\n",
       "      <td>84029E</td>\n",
       "      <td>RED WOOLLY HOTTIE WHITE HEART.</td>\n",
       "      <td>6</td>\n",
       "      <td>12/1/2010 8:26</td>\n",
       "      <td>3.39</td>\n",
       "      <td>17850.0</td>\n",
       "      <td>United Kingdom</td>\n",
       "    </tr>\n",
       "  </tbody>\n",
       "</table>\n",
       "</div>"
      ],
      "text/plain": [
       "  InvoiceNo StockCode                          Description  Quantity  \\\n",
       "0    536365    85123A   WHITE HANGING HEART T-LIGHT HOLDER         6   \n",
       "1    536365     71053                  WHITE METAL LANTERN         6   \n",
       "2    536365    84406B       CREAM CUPID HEARTS COAT HANGER         8   \n",
       "3    536365    84029G  KNITTED UNION FLAG HOT WATER BOTTLE         6   \n",
       "4    536365    84029E       RED WOOLLY HOTTIE WHITE HEART.         6   \n",
       "\n",
       "      InvoiceDate  UnitPrice  CustomerID         Country  \n",
       "0  12/1/2010 8:26       2.55     17850.0  United Kingdom  \n",
       "1  12/1/2010 8:26       3.39     17850.0  United Kingdom  \n",
       "2  12/1/2010 8:26       2.75     17850.0  United Kingdom  \n",
       "3  12/1/2010 8:26       3.39     17850.0  United Kingdom  \n",
       "4  12/1/2010 8:26       3.39     17850.0  United Kingdom  "
      ]
     },
     "execution_count": 3,
     "metadata": {},
     "output_type": "execute_result"
    }
   ],
   "source": [
    "data = pd.read_csv('storage/ecommerce.csv', encoding=\"ISO-8859-1\")\n",
    "data.head()"
   ]
  },
  {
   "cell_type": "code",
   "execution_count": 4,
   "id": "0f496e7b-b99e-4bc0-af04-714593814c58",
   "metadata": {},
   "outputs": [
    {
     "name": "stderr",
     "output_type": "stream",
     "text": [
      "C:\\Users\\dpapf\\AppData\\Local\\Temp\\ipykernel_15728\\1574451463.py:2: SettingWithCopyWarning: \n",
      "A value is trying to be set on a copy of a slice from a DataFrame.\n",
      "Try using .loc[row_indexer,col_indexer] = value instead\n",
      "\n",
      "See the caveats in the documentation: https://pandas.pydata.org/pandas-docs/stable/user_guide/indexing.html#returning-a-view-versus-a-copy\n",
      "  data_UK['total_price'] = data_UK['Quantity'] * data_UK['UnitPrice']\n",
      "C:\\Users\\dpapf\\AppData\\Local\\Temp\\ipykernel_15728\\1574451463.py:3: SettingWithCopyWarning: \n",
      "A value is trying to be set on a copy of a slice from a DataFrame.\n",
      "Try using .loc[row_indexer,col_indexer] = value instead\n",
      "\n",
      "See the caveats in the documentation: https://pandas.pydata.org/pandas-docs/stable/user_guide/indexing.html#returning-a-view-versus-a-copy\n",
      "  data_UK['InvoiceDate'] = pd.to_datetime(data_UK['InvoiceDate'])\n",
      "C:\\Users\\dpapf\\AppData\\Local\\Temp\\ipykernel_15728\\1574451463.py:4: SettingWithCopyWarning: \n",
      "A value is trying to be set on a copy of a slice from a DataFrame.\n",
      "Try using .loc[row_indexer,col_indexer] = value instead\n",
      "\n",
      "See the caveats in the documentation: https://pandas.pydata.org/pandas-docs/stable/user_guide/indexing.html#returning-a-view-versus-a-copy\n",
      "  data_UK['InvoiceDate_15m'] = data_UK['InvoiceDate'].dt.round('15min')\n",
      "C:\\Users\\dpapf\\AppData\\Local\\Temp\\ipykernel_15728\\1574451463.py:5: SettingWithCopyWarning: \n",
      "A value is trying to be set on a copy of a slice from a DataFrame.\n",
      "Try using .loc[row_indexer,col_indexer] = value instead\n",
      "\n",
      "See the caveats in the documentation: https://pandas.pydata.org/pandas-docs/stable/user_guide/indexing.html#returning-a-view-versus-a-copy\n",
      "  data_UK['InvoiceDate_1h'] = data_UK['InvoiceDate'].dt.round('1h')\n"
     ]
    }
   ],
   "source": [
    "data_UK = data[data['Country'] == 'United Kingdom']\n",
    "data_UK['total_price'] = data_UK['Quantity'] * data_UK['UnitPrice']\n",
    "data_UK['InvoiceDate'] = pd.to_datetime(data_UK['InvoiceDate'])\n",
    "data_UK['InvoiceDate_15m'] = data_UK['InvoiceDate'].dt.round('15min')\n",
    "data_UK['InvoiceDate_1h'] = data_UK['InvoiceDate'].dt.round('1h')"
   ]
  },
  {
   "cell_type": "code",
   "execution_count": 5,
   "id": "dc437ee7-0a27-4a97-8f18-fcce64437342",
   "metadata": {},
   "outputs": [],
   "source": [
    "data_UK_clean = data_UK.copy()\n",
    "data_UK_clean[\"UnitPrice\"] = data_UK_clean[\"UnitPrice\"].clip(data_UK_clean[\"UnitPrice\"].quantile(1-TH), \n",
    "                                                             data_UK_clean[\"UnitPrice\"].quantile(TH))\n",
    "data_UK_clean[\"Quantity\"] = data_UK_clean[\"Quantity\"].clip(data_UK_clean[\"Quantity\"].quantile(1-TH), \n",
    "                                                           data_UK_clean[\"Quantity\"].quantile(TH))\n",
    "data_UK_clean[\"total_price\"] = data_UK_clean[\"total_price\"].clip(data_UK_clean[\"total_price\"].quantile(1-TH), \n",
    "                                                                 data_UK_clean[\"total_price\"].quantile(TH))"
   ]
  },
  {
   "cell_type": "code",
   "execution_count": 6,
   "id": "0db595e0-78e1-460a-8613-d4e886c44470",
   "metadata": {},
   "outputs": [],
   "source": [
    "data_UK_1h = data_UK.groupby('InvoiceDate_1h').agg({'total_price':'sum'})"
   ]
  },
  {
   "cell_type": "code",
   "execution_count": 7,
   "id": "8555d164-84f5-4456-94e4-7053adc8135b",
   "metadata": {},
   "outputs": [
    {
     "data": {
      "text/html": [
       "<div>\n",
       "<style scoped>\n",
       "    .dataframe tbody tr th:only-of-type {\n",
       "        vertical-align: middle;\n",
       "    }\n",
       "\n",
       "    .dataframe tbody tr th {\n",
       "        vertical-align: top;\n",
       "    }\n",
       "\n",
       "    .dataframe thead th {\n",
       "        text-align: right;\n",
       "    }\n",
       "</style>\n",
       "<table border=\"1\" class=\"dataframe\">\n",
       "  <thead>\n",
       "    <tr style=\"text-align: right;\">\n",
       "      <th></th>\n",
       "      <th>total_price</th>\n",
       "    </tr>\n",
       "    <tr>\n",
       "      <th>InvoiceDate_1h</th>\n",
       "      <th></th>\n",
       "    </tr>\n",
       "  </thead>\n",
       "  <tbody>\n",
       "    <tr>\n",
       "      <th>2010-12-01 08:00:00</th>\n",
       "      <td>161.32</td>\n",
       "    </tr>\n",
       "    <tr>\n",
       "      <th>2010-12-01 09:00:00</th>\n",
       "      <td>1203.09</td>\n",
       "    </tr>\n",
       "    <tr>\n",
       "      <th>2010-12-01 10:00:00</th>\n",
       "      <td>8490.18</td>\n",
       "    </tr>\n",
       "    <tr>\n",
       "      <th>2010-12-01 11:00:00</th>\n",
       "      <td>3916.21</td>\n",
       "    </tr>\n",
       "    <tr>\n",
       "      <th>2010-12-01 12:00:00</th>\n",
       "      <td>8149.77</td>\n",
       "    </tr>\n",
       "  </tbody>\n",
       "</table>\n",
       "</div>"
      ],
      "text/plain": [
       "                     total_price\n",
       "InvoiceDate_1h                  \n",
       "2010-12-01 08:00:00       161.32\n",
       "2010-12-01 09:00:00      1203.09\n",
       "2010-12-01 10:00:00      8490.18\n",
       "2010-12-01 11:00:00      3916.21\n",
       "2010-12-01 12:00:00      8149.77"
      ]
     },
     "execution_count": 7,
     "metadata": {},
     "output_type": "execute_result"
    }
   ],
   "source": [
    "data_UK_1h.head()"
   ]
  },
  {
   "cell_type": "code",
   "execution_count": 8,
   "id": "dc556547-96f6-442f-ae72-e31ea8c671ea",
   "metadata": {},
   "outputs": [],
   "source": [
    "t = np.arange(data_UK_1h.index[0], data_UK_1h.index[-1]+timedelta(hours=1), timedelta(hours=1)).astype(datetime)"
   ]
  },
  {
   "cell_type": "code",
   "execution_count": 9,
   "id": "d2a26660-5852-4b25-a0ad-c7d3f79b7372",
   "metadata": {},
   "outputs": [],
   "source": [
    "train_test = pd.DataFrame()\n",
    "train_test['ds'] = pd.to_datetime(t)\n",
    "train_test['y'] = 0\n",
    "train_test['cap'] = 20000\n",
    "train_test['floor'] = -2000\n",
    "train_test.iloc[train_test['ds'].isin(data_UK_1h.index), 1] = data_UK_1h['total_price']"
   ]
  },
  {
   "cell_type": "code",
   "execution_count": 10,
   "id": "91de76ba-7ff0-4320-9585-16ea8ba6de14",
   "metadata": {},
   "outputs": [
    {
     "data": {
      "text/html": [
       "<div>\n",
       "<style scoped>\n",
       "    .dataframe tbody tr th:only-of-type {\n",
       "        vertical-align: middle;\n",
       "    }\n",
       "\n",
       "    .dataframe tbody tr th {\n",
       "        vertical-align: top;\n",
       "    }\n",
       "\n",
       "    .dataframe thead th {\n",
       "        text-align: right;\n",
       "    }\n",
       "</style>\n",
       "<table border=\"1\" class=\"dataframe\">\n",
       "  <thead>\n",
       "    <tr style=\"text-align: right;\">\n",
       "      <th></th>\n",
       "      <th>ds</th>\n",
       "      <th>y</th>\n",
       "      <th>cap</th>\n",
       "      <th>floor</th>\n",
       "    </tr>\n",
       "  </thead>\n",
       "  <tbody>\n",
       "    <tr>\n",
       "      <th>0</th>\n",
       "      <td>2010-12-01 08:00:00</td>\n",
       "      <td>161.32</td>\n",
       "      <td>20000</td>\n",
       "      <td>-2000</td>\n",
       "    </tr>\n",
       "    <tr>\n",
       "      <th>1</th>\n",
       "      <td>2010-12-01 09:00:00</td>\n",
       "      <td>1203.09</td>\n",
       "      <td>20000</td>\n",
       "      <td>-2000</td>\n",
       "    </tr>\n",
       "    <tr>\n",
       "      <th>2</th>\n",
       "      <td>2010-12-01 10:00:00</td>\n",
       "      <td>8490.18</td>\n",
       "      <td>20000</td>\n",
       "      <td>-2000</td>\n",
       "    </tr>\n",
       "    <tr>\n",
       "      <th>3</th>\n",
       "      <td>2010-12-01 11:00:00</td>\n",
       "      <td>3916.21</td>\n",
       "      <td>20000</td>\n",
       "      <td>-2000</td>\n",
       "    </tr>\n",
       "    <tr>\n",
       "      <th>4</th>\n",
       "      <td>2010-12-01 12:00:00</td>\n",
       "      <td>8149.77</td>\n",
       "      <td>20000</td>\n",
       "      <td>-2000</td>\n",
       "    </tr>\n",
       "  </tbody>\n",
       "</table>\n",
       "</div>"
      ],
      "text/plain": [
       "                   ds        y    cap  floor\n",
       "0 2010-12-01 08:00:00   161.32  20000  -2000\n",
       "1 2010-12-01 09:00:00  1203.09  20000  -2000\n",
       "2 2010-12-01 10:00:00  8490.18  20000  -2000\n",
       "3 2010-12-01 11:00:00  3916.21  20000  -2000\n",
       "4 2010-12-01 12:00:00  8149.77  20000  -2000"
      ]
     },
     "execution_count": 10,
     "metadata": {},
     "output_type": "execute_result"
    }
   ],
   "source": [
    "train_test.head()"
   ]
  },
  {
   "cell_type": "code",
   "execution_count": 11,
   "id": "0680a15b-1bcf-41fd-8abf-a0859eba3105",
   "metadata": {},
   "outputs": [
    {
     "ename": "ModuleNotFoundError",
     "evalue": "No module named 'fbprophet'",
     "output_type": "error",
     "traceback": [
      "\u001b[1;31m---------------------------------------------------------------------------\u001b[0m",
      "\u001b[1;31mModuleNotFoundError\u001b[0m                       Traceback (most recent call last)",
      "Cell \u001b[1;32mIn [11], line 1\u001b[0m\n\u001b[1;32m----> 1\u001b[0m \u001b[38;5;28;01mfrom\u001b[39;00m \u001b[38;5;21;01mfbprophet\u001b[39;00m \u001b[38;5;28;01mimport\u001b[39;00m Prophet\n\u001b[0;32m      2\u001b[0m \u001b[38;5;28;01mfrom\u001b[39;00m \u001b[38;5;21;01mfbprophet\u001b[39;00m\u001b[38;5;21;01m.\u001b[39;00m\u001b[38;5;21;01mdiagnostics\u001b[39;00m \u001b[38;5;28;01mimport\u001b[39;00m cross_validation\n\u001b[0;32m      3\u001b[0m \u001b[38;5;28;01mfrom\u001b[39;00m \u001b[38;5;21;01mfbprophet\u001b[39;00m\u001b[38;5;21;01m.\u001b[39;00m\u001b[38;5;21;01mdiagnostics\u001b[39;00m \u001b[38;5;28;01mimport\u001b[39;00m performance_metrics\n",
      "\u001b[1;31mModuleNotFoundError\u001b[0m: No module named 'fbprophet'"
     ]
    }
   ],
   "source": [
    "from fbprophet import Prophet\n",
    "from fbprophet.diagnostics import cross_validation\n",
    "from fbprophet.diagnostics import performance_metrics\n",
    "import optuna\n",
    "\n",
    "from sklearn.metrics import mean_absolute_error\n",
    "from sklearn.metrics import mean_squared_error\n",
    "from sklearn.metrics import r2_score\n"
   ]
  },
  {
   "cell_type": "code",
   "execution_count": null,
   "id": "0fef8e2c-f208-4d3b-9d42-e6efb18388e1",
   "metadata": {},
   "outputs": [],
   "source": [
    "!pip install fbpro"
   ]
  }
 ],
 "metadata": {
  "kernelspec": {
   "display_name": "Python 3 (ipykernel)",
   "language": "python",
   "name": "python3"
  },
  "language_info": {
   "codemirror_mode": {
    "name": "ipython",
    "version": 3
   },
   "file_extension": ".py",
   "mimetype": "text/x-python",
   "name": "python",
   "nbconvert_exporter": "python",
   "pygments_lexer": "ipython3",
   "version": "3.10.8"
  }
 },
 "nbformat": 4,
 "nbformat_minor": 5
}
