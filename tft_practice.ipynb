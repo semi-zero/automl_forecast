{
 "cells": [
  {
   "cell_type": "code",
   "execution_count": 2,
   "id": "7543dba6-7607-41f2-8ba1-8413e7ea1cf9",
   "metadata": {},
   "outputs": [],
   "source": [
    "#conda install tensorflow-estimator=2.1.0\n",
    "#!pip install tensorboard"
   ]
  },
  {
   "cell_type": "code",
   "execution_count": 50,
   "id": "32e9f4e6-c402-404f-bc15-6628f63a2691",
   "metadata": {},
   "outputs": [],
   "source": [
    "import matplotlib.pyplot as plt\n",
    "import seaborn as sns\n",
    "from datetime import datetime, timedelta\n",
    "import warnings\n",
    "\n",
    "import argparse\n",
    "import logging\n",
    "import pandas as pd\n",
    "import random\n",
    "import os\n",
    "import numpy as np\n",
    "from loggers import logger\n",
    "\n",
    "from process import input_data, preprocess\n",
    "\n",
    "def set_logger(log_name):\n",
    "    log_obj = logger.AutoMLLog(log_name)\n",
    "    log_obj.set_handler('automl_process')\n",
    "    log_obj.set_formats()\n",
    "    auto_logger = log_obj.addOn()\n",
    "    \n",
    "    auto_logger.info('logger 세팅')"
   ]
  },
  {
   "cell_type": "code",
   "execution_count": 51,
   "id": "94a12216-b764-4f33-a2fa-295a134aabd8",
   "metadata": {},
   "outputs": [],
   "source": [
    "import os\n",
    "import warnings\n",
    "\n",
    "warnings.filterwarnings(\"ignore\")  # avoid printing out absolute paths\n",
    "\n",
    "import copy\n",
    "from pathlib import Path\n",
    "import warnings\n",
    "\n",
    "import numpy as np\n",
    "import pandas as pd\n",
    "import pytorch_lightning as pl\n",
    "from pytorch_lightning.callbacks import EarlyStopping, LearningRateMonitor\n",
    "from pytorch_lightning.loggers import TensorBoardLogger\n",
    "import torch\n",
    "\n",
    "from pytorch_forecasting import Baseline, TemporalFusionTransformer, TimeSeriesDataSet\n",
    "from pytorch_forecasting.data import GroupNormalizer\n",
    "from pytorch_forecasting.metrics import SMAPE, PoissonLoss, QuantileLoss\n",
    "from pytorch_forecasting.models.temporal_fusion_transformer.tuning import optimize_hyperparameters\n",
    "\n",
    "import tensorflow as tf\n",
    "import tensorboard as tb\n",
    "tf.io.gfile = tb.compat.tensorflow_stub.io.gfile"
   ]
  },
  {
   "cell_type": "code",
   "execution_count": 52,
   "id": "b1e0f053-88ce-4583-a588-2e6911f330b7",
   "metadata": {},
   "outputs": [
    {
     "name": "stderr",
     "output_type": "stream",
     "text": [
      "logger 세팅\n",
      "logger 세팅\n",
      "csv 데이터 불러오기\n",
      "csv 데이터 불러오기\n",
      "storage/stallion.csv\n",
      "storage/stallion.csv\n",
      "데이터 구성: 21000 행, 26열\n",
      "데이터 구성: 21000 행, 26열\n",
      "Memory usage of dataframe is 4.17MB\n",
      "Memory usage of dataframe is 4.17MB\n",
      "Memory usage after optimization is: 0.91MB\n",
      "Memory usage after optimization is: 0.91MB\n",
      "Decreased by 78.2%\n",
      "Decreased by 78.2%\n",
      "결측치 처리\n",
      "결측치 처리\n",
      "결측치 처리 이후 데이터 구성: 21000 행, 26열\n",
      "결측치 처리 이후 데이터 구성: 21000 행, 26열\n",
      "전처리를 위한 target, date, store 분리\n",
      "전처리를 위한 target, date, store 분리\n",
      "정규화 진행\n",
      "정규화 진행\n",
      "라벨 인코딩 진행\n",
      "라벨 인코딩 진행\n",
      "전처리 완료\n",
      "전처리 완료\n",
      "\n",
      "\n",
      "\n",
      "\n",
      "   avg_max_temp  price_regular  price_actual  discount  discount_in_percent  \\\n",
      "0     -0.696963      -0.413455     -0.337471 -0.328691            -0.213089   \n",
      "1     -0.531769       0.586046      0.584706  0.218970             0.252862   \n",
      "2     -1.609464      -0.264188     -0.119687 -0.430163            -0.498605   \n",
      "3     -0.818892      -0.403211     -0.313651 -0.353452            -0.274591   \n",
      "4     -1.141414      -0.182238     -0.100971 -0.253193            -0.165842   \n",
      "\n",
      "   industry_volume  soda_volume  avg_population_2017  \\\n",
      "0        -0.815995    -1.697382            -1.072907   \n",
      "1        -0.815995    -1.697382            -1.089462   \n",
      "2        -0.815995    -1.697382             0.188255   \n",
      "3        -0.815995    -1.697382            -0.978834   \n",
      "4        -0.815995    -1.697382             2.151600   \n",
      "\n",
      "   avg_yearly_household_income_2017  easter_day  ...  regional_games  \\\n",
      "0                         -0.376197   -0.301511  ...       -0.130189   \n",
      "1                         -1.077449   -0.301511  ...       -0.130189   \n",
      "2                          1.345580   -0.301511  ...       -0.130189   \n",
      "3                         -1.004049   -0.301511  ...       -0.130189   \n",
      "4                          0.632246   -0.301511  ...       -0.130189   \n",
      "\n",
      "   fifa_u_17_world_cup  football_gold_cup  beer_capital  music_fest  \\\n",
      "0                  0.0                0.0     -0.301511   -0.301511   \n",
      "1                  0.0                0.0     -0.301511   -0.301511   \n",
      "2                  0.0                0.0     -0.301511   -0.301511   \n",
      "3                  0.0                0.0     -0.301511   -0.301511   \n",
      "4                  0.0                0.0     -0.301511   -0.301511   \n",
      "\n",
      "   timeseries     volume        date     sku     agency  \n",
      "0   -1.727109   52.28125  2013-01-01  SKU_01  Agency_22  \n",
      "1   -1.677622    0.00000  2013-01-01  SKU_04  Agency_37  \n",
      "2   -1.638032  813.00000  2013-01-01  SKU_03  Agency_59  \n",
      "3   -1.588545  316.50000  2013-01-01  SKU_01  Agency_11  \n",
      "4   -1.509365  421.00000  2013-01-01  SKU_05  Agency_05  \n",
      "\n",
      "[5 rows x 26 columns]\n",
      "   avg_max_temp  price_regular  price_actual  discount  discount_in_percent  \\\n",
      "0     -0.696963      -0.413455     -0.337471 -0.328691            -0.213089   \n",
      "1     -0.531769       0.586046      0.584706  0.218970             0.252862   \n",
      "2     -1.609464      -0.264188     -0.119687 -0.430163            -0.498605   \n",
      "3     -0.818892      -0.403211     -0.313651 -0.353452            -0.274591   \n",
      "4     -1.141414      -0.182238     -0.100971 -0.253193            -0.165842   \n",
      "\n",
      "   industry_volume  soda_volume  avg_population_2017  \\\n",
      "0        -0.815995    -1.697382            -1.072907   \n",
      "1        -0.815995    -1.697382            -1.089462   \n",
      "2        -0.815995    -1.697382             0.188255   \n",
      "3        -0.815995    -1.697382            -0.978834   \n",
      "4        -0.815995    -1.697382             2.151600   \n",
      "\n",
      "   avg_yearly_household_income_2017  easter_day  ...  regional_games  \\\n",
      "0                         -0.376197   -0.301511  ...       -0.130189   \n",
      "1                         -1.077449   -0.301511  ...       -0.130189   \n",
      "2                          1.345580   -0.301511  ...       -0.130189   \n",
      "3                         -1.004049   -0.301511  ...       -0.130189   \n",
      "4                          0.632246   -0.301511  ...       -0.130189   \n",
      "\n",
      "   fifa_u_17_world_cup  football_gold_cup  beer_capital  music_fest  \\\n",
      "0                  0.0                0.0     -0.301511   -0.301511   \n",
      "1                  0.0                0.0     -0.301511   -0.301511   \n",
      "2                  0.0                0.0     -0.301511   -0.301511   \n",
      "3                  0.0                0.0     -0.301511   -0.301511   \n",
      "4                  0.0                0.0     -0.301511   -0.301511   \n",
      "\n",
      "   timeseries     volume        date     sku     agency  \n",
      "0   -1.727109   52.28125  2013-01-01  SKU_01  Agency_22  \n",
      "1   -1.677622    0.00000  2013-01-01  SKU_04  Agency_37  \n",
      "2   -1.638032  813.00000  2013-01-01  SKU_03  Agency_59  \n",
      "3   -1.588545  316.50000  2013-01-01  SKU_01  Agency_11  \n",
      "4   -1.509365  421.00000  2013-01-01  SKU_05  Agency_05  \n",
      "\n",
      "[5 rows x 26 columns]\n",
      "시계열용 전처리 진행\n",
      "시계열용 전처리 진행\n",
      "시계열 전처리 후 df\n",
      "시계열 전처리 후 df\n",
      "   avg_max_temp  price_regular  price_actual  discount  discount_in_percent  \\\n",
      "0     -0.696963      -0.413455     -0.337471 -0.328691            -0.213089   \n",
      "1      0.176207      -0.413455     -0.337471 -0.328205            -0.212274   \n",
      "2      0.203739      -0.360773     -0.281323 -0.318738            -0.217162   \n",
      "3      0.962846      -0.316871     -0.233683 -0.305872            -0.210645   \n",
      "4      0.892048      -0.299310     -0.214967 -0.303444            -0.213903   \n",
      "\n",
      "   industry_volume  soda_volume  avg_population_2017  \\\n",
      "0        -0.815995    -1.697382            -1.072907   \n",
      "1        -1.780953    -1.243094            -1.072907   \n",
      "2        -0.550900     0.523917            -1.072907   \n",
      "3        -0.183385    -0.167437            -1.072907   \n",
      "4         0.124586     0.168964            -1.072907   \n",
      "\n",
      "   avg_yearly_household_income_2017  easter_day  ...  football_gold_cup  \\\n",
      "0                         -0.376197   -0.301511  ...                0.0   \n",
      "1                         -0.376197   -0.301511  ...                0.0   \n",
      "2                         -0.376197    3.316625  ...                0.0   \n",
      "3                         -0.376197   -0.301511  ...                0.0   \n",
      "4                         -0.376197   -0.301511  ...                0.0   \n",
      "\n",
      "   beer_capital  music_fest  timeseries    volume       date     sku  \\\n",
      "0     -0.301511   -0.301511   -1.727109  52.28125 2013-01-01  SKU_01   \n",
      "1     -0.301511   -0.301511   -1.727109  62.53125 2013-02-01  SKU_01   \n",
      "2     -0.301511    3.316625   -1.727109  74.18750 2013-03-01  SKU_01   \n",
      "3     -0.301511   -0.301511   -1.727109  89.43750 2013-04-01  SKU_01   \n",
      "4     -0.301511   -0.301511   -1.727109  79.18750 2013-05-01  SKU_01   \n",
      "\n",
      "      agency  time_idx  month  \n",
      "0  Agency_22         0      1  \n",
      "1  Agency_22         1      2  \n",
      "2  Agency_22         2      3  \n",
      "3  Agency_22         3      4  \n",
      "4  Agency_22         4      5  \n",
      "\n",
      "[5 rows x 28 columns]\n",
      "   avg_max_temp  price_regular  price_actual  discount  discount_in_percent  \\\n",
      "0     -0.696963      -0.413455     -0.337471 -0.328691            -0.213089   \n",
      "1      0.176207      -0.413455     -0.337471 -0.328205            -0.212274   \n",
      "2      0.203739      -0.360773     -0.281323 -0.318738            -0.217162   \n",
      "3      0.962846      -0.316871     -0.233683 -0.305872            -0.210645   \n",
      "4      0.892048      -0.299310     -0.214967 -0.303444            -0.213903   \n",
      "\n",
      "   industry_volume  soda_volume  avg_population_2017  \\\n",
      "0        -0.815995    -1.697382            -1.072907   \n",
      "1        -1.780953    -1.243094            -1.072907   \n",
      "2        -0.550900     0.523917            -1.072907   \n",
      "3        -0.183385    -0.167437            -1.072907   \n",
      "4         0.124586     0.168964            -1.072907   \n",
      "\n",
      "   avg_yearly_household_income_2017  easter_day  ...  football_gold_cup  \\\n",
      "0                         -0.376197   -0.301511  ...                0.0   \n",
      "1                         -0.376197   -0.301511  ...                0.0   \n",
      "2                         -0.376197    3.316625  ...                0.0   \n",
      "3                         -0.376197   -0.301511  ...                0.0   \n",
      "4                         -0.376197   -0.301511  ...                0.0   \n",
      "\n",
      "   beer_capital  music_fest  timeseries    volume       date     sku  \\\n",
      "0     -0.301511   -0.301511   -1.727109  52.28125 2013-01-01  SKU_01   \n",
      "1     -0.301511   -0.301511   -1.727109  62.53125 2013-02-01  SKU_01   \n",
      "2     -0.301511    3.316625   -1.727109  74.18750 2013-03-01  SKU_01   \n",
      "3     -0.301511   -0.301511   -1.727109  89.43750 2013-04-01  SKU_01   \n",
      "4     -0.301511   -0.301511   -1.727109  79.18750 2013-05-01  SKU_01   \n",
      "\n",
      "      agency  time_idx  month  \n",
      "0  Agency_22         0      1  \n",
      "1  Agency_22         1      2  \n",
      "2  Agency_22         2      3  \n",
      "3  Agency_22         3      4  \n",
      "4  Agency_22         4      5  \n",
      "\n",
      "[5 rows x 28 columns]\n"
     ]
    }
   ],
   "source": [
    "log_name = 'practice_tft'\n",
    "set_logger(log_name)\n",
    "data, var_list, num_var, obj_var = input_data.Data_load('storage/stallion.csv', log_name).read_data()\n",
    "df = preprocess.Preprocessing(log_name, data, var_list, num_var, obj_var, target_var='volume', date_var= 'date', store_list=['sku','agency'], unit='month').df"
   ]
  },
  {
   "cell_type": "code",
   "execution_count": 53,
   "id": "3da0c5c4-9e6e-4073-874f-6573a23140e7",
   "metadata": {},
   "outputs": [],
   "source": [
    "target_var='volume'\n",
    "date_var= 'date'\n",
    "store_list=['sku','agency']\n",
    "unit='month'\n",
    "predict_n = 7"
   ]
  },
  {
   "cell_type": "code",
   "execution_count": 54,
   "id": "79d52f97-ad23-449d-a153-7191a2fdfcb2",
   "metadata": {},
   "outputs": [
    {
     "data": {
      "text/plain": [
       "Index(['avg_max_temp', 'price_regular', 'price_actual', 'discount',\n",
       "       'discount_in_percent', 'industry_volume', 'soda_volume',\n",
       "       'avg_population_2017', 'avg_yearly_household_income_2017', 'easter_day',\n",
       "       'good_friday', 'new_year', 'christmas', 'labor_day', 'independence_day',\n",
       "       'revolution_day_memorial', 'regional_games', 'fifa_u_17_world_cup',\n",
       "       'football_gold_cup', 'beer_capital', 'music_fest', 'timeseries',\n",
       "       'volume', 'date', 'sku', 'agency', 'time_idx', 'month'],\n",
       "      dtype='object')"
      ]
     },
     "execution_count": 54,
     "metadata": {},
     "output_type": "execute_result"
    }
   ],
   "source": [
    "df.columns"
   ]
  },
  {
   "cell_type": "code",
   "execution_count": 55,
   "id": "9c23a4ea-4694-4086-836d-f1de708e02bc",
   "metadata": {},
   "outputs": [],
   "source": [
    "# add additional features\n",
    "#data[\"month\"] = data.date.dt.month.astype(str).astype(\"category\")  # categories have be strings\n",
    "df[f\"log_{target_var}\"] = np.log(df[target_var] + 1e-4)\n",
    "for store_var in store_list:\n",
    "    df[f\"avg_{target_var}_by_{store_var}\"] = df.groupby([\"time_idx\", store_var], observed=True)[target_var].transform(\"mean\")"
   ]
  },
  {
   "cell_type": "code",
   "execution_count": 56,
   "id": "5aadda67-bda3-46f0-b056-cbbd77fb21af",
   "metadata": {},
   "outputs": [
    {
     "data": {
      "text/html": [
       "<div>\n",
       "<style scoped>\n",
       "    .dataframe tbody tr th:only-of-type {\n",
       "        vertical-align: middle;\n",
       "    }\n",
       "\n",
       "    .dataframe tbody tr th {\n",
       "        vertical-align: top;\n",
       "    }\n",
       "\n",
       "    .dataframe thead th {\n",
       "        text-align: right;\n",
       "    }\n",
       "</style>\n",
       "<table border=\"1\" class=\"dataframe\">\n",
       "  <thead>\n",
       "    <tr style=\"text-align: right;\">\n",
       "      <th></th>\n",
       "      <th>avg_max_temp</th>\n",
       "      <th>price_regular</th>\n",
       "      <th>price_actual</th>\n",
       "      <th>discount</th>\n",
       "      <th>discount_in_percent</th>\n",
       "      <th>industry_volume</th>\n",
       "      <th>soda_volume</th>\n",
       "      <th>avg_population_2017</th>\n",
       "      <th>avg_yearly_household_income_2017</th>\n",
       "      <th>easter_day</th>\n",
       "      <th>...</th>\n",
       "      <th>timeseries</th>\n",
       "      <th>volume</th>\n",
       "      <th>date</th>\n",
       "      <th>sku</th>\n",
       "      <th>agency</th>\n",
       "      <th>time_idx</th>\n",
       "      <th>month</th>\n",
       "      <th>log_volume</th>\n",
       "      <th>avg_volume_by_sku</th>\n",
       "      <th>avg_volume_by_agency</th>\n",
       "    </tr>\n",
       "  </thead>\n",
       "  <tbody>\n",
       "    <tr>\n",
       "      <th>0</th>\n",
       "      <td>-0.696963</td>\n",
       "      <td>-0.413455</td>\n",
       "      <td>-0.337471</td>\n",
       "      <td>-0.328691</td>\n",
       "      <td>-0.213089</td>\n",
       "      <td>-0.815995</td>\n",
       "      <td>-1.697382</td>\n",
       "      <td>-1.072907</td>\n",
       "      <td>-0.376197</td>\n",
       "      <td>-0.301511</td>\n",
       "      <td>...</td>\n",
       "      <td>-1.727109</td>\n",
       "      <td>52.28125</td>\n",
       "      <td>2013-01-01</td>\n",
       "      <td>SKU_01</td>\n",
       "      <td>Agency_22</td>\n",
       "      <td>0</td>\n",
       "      <td>1</td>\n",
       "      <td>3.957031</td>\n",
       "      <td>2614.0</td>\n",
       "      <td>103.8125</td>\n",
       "    </tr>\n",
       "    <tr>\n",
       "      <th>1</th>\n",
       "      <td>0.176207</td>\n",
       "      <td>-0.413455</td>\n",
       "      <td>-0.337471</td>\n",
       "      <td>-0.328205</td>\n",
       "      <td>-0.212274</td>\n",
       "      <td>-1.780953</td>\n",
       "      <td>-1.243094</td>\n",
       "      <td>-1.072907</td>\n",
       "      <td>-0.376197</td>\n",
       "      <td>-0.301511</td>\n",
       "      <td>...</td>\n",
       "      <td>-1.727109</td>\n",
       "      <td>62.53125</td>\n",
       "      <td>2013-02-01</td>\n",
       "      <td>SKU_01</td>\n",
       "      <td>Agency_22</td>\n",
       "      <td>1</td>\n",
       "      <td>2</td>\n",
       "      <td>4.136719</td>\n",
       "      <td>2918.0</td>\n",
       "      <td>121.0000</td>\n",
       "    </tr>\n",
       "    <tr>\n",
       "      <th>2</th>\n",
       "      <td>0.203739</td>\n",
       "      <td>-0.360773</td>\n",
       "      <td>-0.281323</td>\n",
       "      <td>-0.318738</td>\n",
       "      <td>-0.217162</td>\n",
       "      <td>-0.550900</td>\n",
       "      <td>0.523917</td>\n",
       "      <td>-1.072907</td>\n",
       "      <td>-0.376197</td>\n",
       "      <td>3.316625</td>\n",
       "      <td>...</td>\n",
       "      <td>-1.727109</td>\n",
       "      <td>74.18750</td>\n",
       "      <td>2013-03-01</td>\n",
       "      <td>SKU_01</td>\n",
       "      <td>Agency_22</td>\n",
       "      <td>2</td>\n",
       "      <td>3</td>\n",
       "      <td>4.304688</td>\n",
       "      <td>3216.0</td>\n",
       "      <td>153.8750</td>\n",
       "    </tr>\n",
       "    <tr>\n",
       "      <th>3</th>\n",
       "      <td>0.962846</td>\n",
       "      <td>-0.316871</td>\n",
       "      <td>-0.233683</td>\n",
       "      <td>-0.305872</td>\n",
       "      <td>-0.210645</td>\n",
       "      <td>-0.183385</td>\n",
       "      <td>-0.167437</td>\n",
       "      <td>-1.072907</td>\n",
       "      <td>-0.376197</td>\n",
       "      <td>-0.301511</td>\n",
       "      <td>...</td>\n",
       "      <td>-1.727109</td>\n",
       "      <td>89.43750</td>\n",
       "      <td>2013-04-01</td>\n",
       "      <td>SKU_01</td>\n",
       "      <td>Agency_22</td>\n",
       "      <td>3</td>\n",
       "      <td>4</td>\n",
       "      <td>4.492188</td>\n",
       "      <td>3516.0</td>\n",
       "      <td>163.2500</td>\n",
       "    </tr>\n",
       "    <tr>\n",
       "      <th>4</th>\n",
       "      <td>0.892048</td>\n",
       "      <td>-0.299310</td>\n",
       "      <td>-0.214967</td>\n",
       "      <td>-0.303444</td>\n",
       "      <td>-0.213903</td>\n",
       "      <td>0.124586</td>\n",
       "      <td>0.168964</td>\n",
       "      <td>-1.072907</td>\n",
       "      <td>-0.376197</td>\n",
       "      <td>-0.301511</td>\n",
       "      <td>...</td>\n",
       "      <td>-1.727109</td>\n",
       "      <td>79.18750</td>\n",
       "      <td>2013-05-01</td>\n",
       "      <td>SKU_01</td>\n",
       "      <td>Agency_22</td>\n",
       "      <td>4</td>\n",
       "      <td>5</td>\n",
       "      <td>4.371094</td>\n",
       "      <td>3688.0</td>\n",
       "      <td>152.6250</td>\n",
       "    </tr>\n",
       "  </tbody>\n",
       "</table>\n",
       "<p>5 rows × 31 columns</p>\n",
       "</div>"
      ],
      "text/plain": [
       "   avg_max_temp  price_regular  price_actual  discount  discount_in_percent  \\\n",
       "0     -0.696963      -0.413455     -0.337471 -0.328691            -0.213089   \n",
       "1      0.176207      -0.413455     -0.337471 -0.328205            -0.212274   \n",
       "2      0.203739      -0.360773     -0.281323 -0.318738            -0.217162   \n",
       "3      0.962846      -0.316871     -0.233683 -0.305872            -0.210645   \n",
       "4      0.892048      -0.299310     -0.214967 -0.303444            -0.213903   \n",
       "\n",
       "   industry_volume  soda_volume  avg_population_2017  \\\n",
       "0        -0.815995    -1.697382            -1.072907   \n",
       "1        -1.780953    -1.243094            -1.072907   \n",
       "2        -0.550900     0.523917            -1.072907   \n",
       "3        -0.183385    -0.167437            -1.072907   \n",
       "4         0.124586     0.168964            -1.072907   \n",
       "\n",
       "   avg_yearly_household_income_2017  easter_day  ...  timeseries    volume  \\\n",
       "0                         -0.376197   -0.301511  ...   -1.727109  52.28125   \n",
       "1                         -0.376197   -0.301511  ...   -1.727109  62.53125   \n",
       "2                         -0.376197    3.316625  ...   -1.727109  74.18750   \n",
       "3                         -0.376197   -0.301511  ...   -1.727109  89.43750   \n",
       "4                         -0.376197   -0.301511  ...   -1.727109  79.18750   \n",
       "\n",
       "        date     sku     agency  time_idx  month  log_volume  \\\n",
       "0 2013-01-01  SKU_01  Agency_22         0      1    3.957031   \n",
       "1 2013-02-01  SKU_01  Agency_22         1      2    4.136719   \n",
       "2 2013-03-01  SKU_01  Agency_22         2      3    4.304688   \n",
       "3 2013-04-01  SKU_01  Agency_22         3      4    4.492188   \n",
       "4 2013-05-01  SKU_01  Agency_22         4      5    4.371094   \n",
       "\n",
       "   avg_volume_by_sku  avg_volume_by_agency  \n",
       "0             2614.0              103.8125  \n",
       "1             2918.0              121.0000  \n",
       "2             3216.0              153.8750  \n",
       "3             3516.0              163.2500  \n",
       "4             3688.0              152.6250  \n",
       "\n",
       "[5 rows x 31 columns]"
      ]
     },
     "execution_count": 56,
     "metadata": {},
     "output_type": "execute_result"
    }
   ],
   "source": [
    "df.head()"
   ]
  },
  {
   "cell_type": "code",
   "execution_count": 57,
   "id": "d9faebf7-151f-4d10-bed4-4b514654d4fa",
   "metadata": {},
   "outputs": [],
   "source": [
    "max_prediction_length = predict_n\n",
    "max_encoder_length = predict_n * 4\n",
    "training_cutoff = df['time_idx'].max() - max_prediction_length"
   ]
  },
  {
   "cell_type": "code",
   "execution_count": 58,
   "id": "93d9fda4-5ecd-4de9-b6ee-8418238e8747",
   "metadata": {},
   "outputs": [],
   "source": [
    "df.sort_values(store_list, inplace=True)"
   ]
  },
  {
   "cell_type": "code",
   "execution_count": 59,
   "id": "593c2c8d-402c-48cc-bae9-fce722c359ce",
   "metadata": {},
   "outputs": [],
   "source": [
    "training = TimeSeriesDataSet(\n",
    "    df[lambda x: x.time_idx <= training_cutoff],\n",
    "    time_idx=\"time_idx\",\n",
    "    target=target_var,\n",
    "    group_ids=store_list,\n",
    "    min_encoder_length=max_encoder_length // 2,  # keep encoder length long (as it is in the validation set)\n",
    "    max_encoder_length=max_encoder_length,\n",
    "    min_prediction_length=1,\n",
    "    max_prediction_length=max_prediction_length,\n",
    "    static_categoricals=store_list,\n",
    "    static_reals=[],\n",
    "    time_varying_known_categoricals=[unit],\n",
    "    variable_groups={},  # group of categorical variables can be treated as one variable\n",
    "    time_varying_known_reals=[\"time_idx\"],\n",
    "    time_varying_unknown_categoricals=[],\n",
    "    time_varying_unknown_reals=\n",
    "    [target_var, f\"log_{target_var}\"]+ [f\"avg_{target_var}_by_{store_var}\" for store_var in store_list],\n",
    "    target_normalizer=GroupNormalizer(\n",
    "        groups=store_list, transformation=\"softplus\"\n",
    "    ),  # use softplus and normalize by group\n",
    "    add_relative_time_idx=True,\n",
    "    add_target_scales=True,\n",
    "    add_encoder_length=True,\n",
    ")\n",
    "\n",
    "# create validation set (predict=True) which means to predict the last max_prediction_length points in time\n",
    "# for each series\n",
    "validation = TimeSeriesDataSet.from_dataset(training, df, predict=True, stop_randomization=True)\n",
    "\n",
    "# create dataloaders for model\n",
    "batch_size = 128  # set this between 32 to 128\n",
    "train_dataloader = training.to_dataloader(train=True, batch_size=batch_size, num_workers=0)\n",
    "val_dataloader = validation.to_dataloader(train=False, batch_size=batch_size * 10, num_workers=0)"
   ]
  },
  {
   "cell_type": "code",
   "execution_count": 60,
   "id": "9cf4e487-6d76-48e0-85b0-14dbab802d67",
   "metadata": {},
   "outputs": [
    {
     "data": {
      "text/plain": [
       "128"
      ]
     },
     "execution_count": 60,
     "metadata": {},
     "output_type": "execute_result"
    }
   ],
   "source": [
    "len(next(iter(train_dataloader))[0]['groups'])"
   ]
  },
  {
   "cell_type": "code",
   "execution_count": 61,
   "id": "488bcf6c-2e1b-4f16-82ff-fb52ade4ed94",
   "metadata": {},
   "outputs": [
    {
     "name": "stderr",
     "output_type": "stream",
     "text": [
      "Global seed set to 42\n",
      "GPU available: False, used: False\n",
      "TPU available: False, using: 0 TPU cores\n",
      "IPU available: False, using: 0 IPUs\n"
     ]
    },
    {
     "name": "stdout",
     "output_type": "stream",
     "text": [
      "Number of parameters in network: 22.7k\n"
     ]
    }
   ],
   "source": [
    "# configure network and trainer\n",
    "pl.seed_everything(42)\n",
    "trainer = pl.Trainer(\n",
    "    gpus=0,\n",
    "    # clipping gradients is a hyperparameter and important to prevent divergance\n",
    "    # of the gradient for recurrent neural networks\n",
    "    gradient_clip_val=0.1,\n",
    ")\n",
    "\n",
    "\n",
    "tft = TemporalFusionTransformer.from_dataset(\n",
    "    training,\n",
    "    # not meaningful for finding the learning rate but otherwise very important\n",
    "    learning_rate=0.03,\n",
    "    hidden_size=16,  # most important hyperparameter apart from learning rate\n",
    "    # number of attention heads. Set to up to 4 for large datasets\n",
    "    attention_head_size=1,\n",
    "    dropout=0.1,  # between 0.1 and 0.3 are good values\n",
    "    hidden_continuous_size=8,  # set to <= hidden_size\n",
    "    output_size=7,  # 7 quantiles by default\n",
    "    loss=QuantileLoss(),\n",
    "    # reduce learning rate if no improvement in validation loss after x epochs\n",
    "    reduce_on_plateau_patience=4,\n",
    ")\n",
    "print(f\"Number of parameters in network: {tft.size()/1e3:.1f}k\")"
   ]
  },
  {
   "cell_type": "code",
   "execution_count": 62,
   "id": "79da45de-1960-4824-809e-0c8512a9cf6b",
   "metadata": {},
   "outputs": [
    {
     "name": "stderr",
     "output_type": "stream",
     "text": [
      "Global seed set to 42\n"
     ]
    },
    {
     "data": {
      "application/vnd.jupyter.widget-view+json": {
       "model_id": "92566001a4eb473baf84a55cd547f782",
       "version_major": 2,
       "version_minor": 0
      },
      "text/plain": [
       "Finding best initial lr:   0%|          | 0/100 [00:00<?, ?it/s]"
      ]
     },
     "metadata": {},
     "output_type": "display_data"
    },
    {
     "name": "stderr",
     "output_type": "stream",
     "text": [
      "Restoring states from the checkpoint path at C:\\Users\\LDCC\\Desktop\\eco_code\\automl_forecast\\lr_find_temp_model_8b48a45d-c62e-45ef-ad87-861b82ae51b2.ckpt\n"
     ]
    },
    {
     "name": "stdout",
     "output_type": "stream",
     "text": [
      "suggested learning rate: 5.888436553555889e-06\n"
     ]
    },
    {
     "data": {
      "image/png": "[encoded data removed]",
      "text/plain": [
       "<Figure size 432x288 with 1 Axes>"
      ]
     },
     "metadata": {
      "needs_background": "light"
     },
     "output_type": "display_data"
    }
   ],
   "source": [
    "# find optimal learning rate\n",
    "res = trainer.tuner.lr_find(\n",
    "    tft,\n",
    "    train_dataloaders=train_dataloader,\n",
    "    val_dataloaders=val_dataloader,\n",
    "    max_lr=10.0,\n",
    "    min_lr=1e-6,\n",
    ")\n",
    "\n",
    "print(f\"suggested learning rate: {res.suggestion()}\")\n",
    "fig = res.plot(show=True, suggest=True)\n",
    "fig.show()"
   ]
  },
  {
   "cell_type": "code",
   "execution_count": 63,
   "id": "2d45aa4e-6638-440d-8e32-a8f8a3d95136",
   "metadata": {},
   "outputs": [
    {
     "name": "stderr",
     "output_type": "stream",
     "text": [
      "GPU available: False, used: False\n",
      "TPU available: False, using: 0 TPU cores\n",
      "IPU available: False, using: 0 IPUs\n"
     ]
    },
    {
     "name": "stdout",
     "output_type": "stream",
     "text": [
      "Number of parameters in network: 22.7k\n"
     ]
    }
   ],
   "source": [
    "# configure network and trainer\n",
    "early_stop_callback = EarlyStopping(monitor=\"val_loss\", min_delta=1e-4, patience=10, verbose=False, mode=\"min\")\n",
    "lr_logger = LearningRateMonitor()  # log the learning rate\n",
    "logger = TensorBoardLogger(\"lightning_logs\")  # logging results to a tensorboard\n",
    "\n",
    "trainer = pl.Trainer(\n",
    "    max_epochs=3,\n",
    "    gpus=0,\n",
    "    enable_model_summary=True,\n",
    "    gradient_clip_val=0.1,\n",
    "    limit_train_batches=30,  # coment in for training, running valiation every 30 batches\n",
    "    # fast_dev_run=True,  # comment in to check that networkor dataset has no serious bugs\n",
    "    callbacks=[lr_logger, early_stop_callback],\n",
    "    logger=logger,\n",
    ")\n",
    "\n",
    "\n",
    "tft = TemporalFusionTransformer.from_dataset(\n",
    "    training,\n",
    "    learning_rate=0.03,\n",
    "    hidden_size=16,\n",
    "    attention_head_size=1,\n",
    "    dropout=0.1,\n",
    "    hidden_continuous_size=8,\n",
    "    output_size=7,  # 7 quantiles by default\n",
    "    loss=QuantileLoss(),\n",
    "    log_interval=10,  # uncomment for learning rate finder and otherwise, e.g. to 10 for logging every 10 batches\n",
    "    reduce_on_plateau_patience=4,\n",
    ")\n",
    "print(f\"Number of parameters in network: {tft.size()/1e3:.1f}k\")"
   ]
  },
  {
   "cell_type": "code",
   "execution_count": 64,
   "id": "e7bb3330-076b-4e6a-919a-ea0ddacc1f75",
   "metadata": {},
   "outputs": [
    {
     "name": "stdout",
     "output_type": "stream",
     "text": [
      "torch.Size([128, 2])\n",
      "torch.Size([350, 2])\n"
     ]
    }
   ],
   "source": [
    "sample = next(iter(train_dataloader))[0]\n",
    "print(sample['target_scale'].shape)\n",
    "valid= next(iter(val_dataloader))[0]\n",
    "print(valid['target_scale'].shape)"
   ]
  },
  {
   "cell_type": "code",
   "execution_count": 65,
   "id": "71233073-093c-4032-97f6-fe67f4c5881c",
   "metadata": {},
   "outputs": [
    {
     "name": "stderr",
     "output_type": "stream",
     "text": [
      "\n",
      "   | Name                               | Type                            | Params\n",
      "----------------------------------------------------------------------------------------\n",
      "0  | loss                               | QuantileLoss                    | 0     \n",
      "1  | logging_metrics                    | ModuleList                      | 0     \n",
      "2  | input_embeddings                   | MultiEmbedding                  | 1.2 K \n",
      "3  | prescalers                         | ModuleDict                      | 144   \n",
      "4  | static_variable_selection          | VariableSelectionNetwork        | 2.0 K \n",
      "5  | encoder_variable_selection         | VariableSelectionNetwork        | 3.9 K \n",
      "6  | decoder_variable_selection         | VariableSelectionNetwork        | 1.3 K \n",
      "7  | static_context_variable_selection  | GatedResidualNetwork            | 1.1 K \n",
      "8  | static_context_initial_hidden_lstm | GatedResidualNetwork            | 1.1 K \n",
      "9  | static_context_initial_cell_lstm   | GatedResidualNetwork            | 1.1 K \n",
      "10 | static_context_enrichment          | GatedResidualNetwork            | 1.1 K \n",
      "11 | lstm_encoder                       | LSTM                            | 2.2 K \n",
      "12 | lstm_decoder                       | LSTM                            | 2.2 K \n",
      "13 | post_lstm_gate_encoder             | GatedLinearUnit                 | 544   \n",
      "14 | post_lstm_add_norm_encoder         | AddNorm                         | 32    \n",
      "15 | static_enrichment                  | GatedResidualNetwork            | 1.4 K \n",
      "16 | multihead_attn                     | InterpretableMultiHeadAttention | 1.1 K \n",
      "17 | post_attn_gate_norm                | GateAddNorm                     | 576   \n",
      "18 | pos_wise_ff                        | GatedResidualNetwork            | 1.1 K \n",
      "19 | pre_output_gate_norm               | GateAddNorm                     | 576   \n",
      "20 | output_layer                       | Linear                          | 119   \n",
      "----------------------------------------------------------------------------------------\n",
      "22.7 K    Trainable params\n",
      "0         Non-trainable params\n",
      "22.7 K    Total params\n",
      "0.091     Total estimated model params size (MB)\n"
     ]
    },
    {
     "data": {
      "application/vnd.jupyter.widget-view+json": {
       "model_id": "",
       "version_major": 2,
       "version_minor": 0
      },
      "text/plain": [
       "Validation sanity check: 0it [00:00, ?it/s]"
      ]
     },
     "metadata": {},
     "output_type": "display_data"
    },
    {
     "name": "stderr",
     "output_type": "stream",
     "text": [
      "Global seed set to 42\n"
     ]
    },
    {
     "data": {
      "application/vnd.jupyter.widget-view+json": {
       "model_id": "ccafe72788f5408ab9be53c0c8b299bb",
       "version_major": 2,
       "version_minor": 0
      },
      "text/plain": [
       "Training: 0it [00:00, ?it/s]"
      ]
     },
     "metadata": {},
     "output_type": "display_data"
    },
    {
     "data": {
      "application/vnd.jupyter.widget-view+json": {
       "model_id": "",
       "version_major": 2,
       "version_minor": 0
      },
      "text/plain": [
       "Validating: 0it [00:00, ?it/s]"
      ]
     },
     "metadata": {},
     "output_type": "display_data"
    },
    {
     "data": {
      "application/vnd.jupyter.widget-view+json": {
       "model_id": "",
       "version_major": 2,
       "version_minor": 0
      },
      "text/plain": [
       "Validating: 0it [00:00, ?it/s]"
      ]
     },
     "metadata": {},
     "output_type": "display_data"
    },
    {
     "data": {
      "application/vnd.jupyter.widget-view+json": {
       "model_id": "",
       "version_major": 2,
       "version_minor": 0
      },
      "text/plain": [
       "Validating: 0it [00:00, ?it/s]"
      ]
     },
     "metadata": {},
     "output_type": "display_data"
    }
   ],
   "source": [
    "# fit network\n",
    "\n",
    "\n",
    "trainer.fit(\n",
    "    tft,\n",
    "    train_dataloaders=train_dataloader,\n",
    "    val_dataloaders=val_dataloader,\n",
    ")"
   ]
  },
  {
   "cell_type": "code",
   "execution_count": 66,
   "id": "18e07593-7ecb-47e9-9e6b-d17789cc384d",
   "metadata": {},
   "outputs": [],
   "source": [
    "#hyperparameter 튜닝\n",
    "# import pickle\n",
    "\n",
    "# from pytorch_forecasting.models.temporal_fusion_transformer.tuning import optimize_hyperparameters\n",
    "\n",
    "# # create study\n",
    "# study = optimize_hyperparameters(\n",
    "#     train_dataloader,\n",
    "#     val_dataloader,\n",
    "#     model_path=\"optuna_test\",\n",
    "#     n_trials=200,\n",
    "#     max_epochs=50,\n",
    "#     gradient_clip_val_range=(0.01, 1.0),\n",
    "#     hidden_size_range=(8, 128),\n",
    "#     hidden_continuous_size_range=(8, 128),\n",
    "#     attention_head_size_range=(1, 4),\n",
    "#     learning_rate_range=(0.001, 0.1),\n",
    "#     dropout_range=(0.1, 0.3),\n",
    "#     trainer_kwargs=dict(limit_train_batches=30),\n",
    "#     reduce_on_plateau_patience=4,\n",
    "#     use_learning_rate_finder=False,  # use Optuna to find ideal learning rate or use in-built learning rate finder\n",
    "# )\n",
    "\n",
    "# # save study results - also we can resume tuning at a later point in time\n",
    "# with open(\"test_study.pkl\", \"wb\") as fout:\n",
    "#     pickle.dump(study, fout)\n",
    "\n",
    "# # show best hyperparameters\n",
    "# print(study.best_trial.params)"
   ]
  },
  {
   "cell_type": "code",
   "execution_count": 67,
   "id": "729ecac7-07ff-4d1f-8281-217c77d4a8b0",
   "metadata": {},
   "outputs": [],
   "source": [
    "# load the best model according to the validation loss\n",
    "# (given that we use early stopping, this is not necessarily the last epoch)\n",
    "best_model_path = trainer.checkpoint_callback.best_model_path\n",
    "best_tft = TemporalFusionTransformer.load_from_checkpoint(best_model_path)"
   ]
  },
  {
   "cell_type": "code",
   "execution_count": 68,
   "id": "4ed4e1fb-8bf8-4022-aa70-f2bbabe063e3",
   "metadata": {},
   "outputs": [],
   "source": [
    "# raw predictions are a dictionary from which all kind of information including quantiles can be extracted\n",
    "raw_predictions, x = best_tft.predict(val_dataloader, mode=\"raw\", return_x=True)"
   ]
  },
  {
   "cell_type": "code",
   "execution_count": 69,
   "id": "cd3a7713-0854-4e1c-bd83-0450cf4398d3",
   "metadata": {},
   "outputs": [
    {
     "data": {
      "image/png": "[encoded data removed]",
      "text/plain": [
       "<Figure size 432x288 with 2 Axes>"
      ]
     },
     "metadata": {
      "needs_background": "light"
     },
     "output_type": "display_data"
    }
   ],
   "source": [
    "for idx in range(1):  # plot 10 examples\n",
    "    best_tft.plot_prediction(x, raw_predictions, idx=idx, add_loss_to_title=True);"
   ]
  },
  {
   "cell_type": "code",
   "execution_count": 90,
   "id": "58295fc2-79e4-47fd-b66e-da4e59fdf5d5",
   "metadata": {},
   "outputs": [],
   "source": [
    "val_predictions = best_tft.predict(val_dataloader, mode=\"prediction\", return_x=False)"
   ]
  },
  {
   "cell_type": "code",
   "execution_count": 75,
   "id": "7af60dfa-d017-455f-8c6f-a35349d360a0",
   "metadata": {},
   "outputs": [],
   "source": [
    "val_predictions = pd.DataFrame(val_predictions.numpy())"
   ]
  },
  {
   "cell_type": "code",
   "execution_count": 92,
   "id": "c4d36d59-e52a-48ea-a691-8df3aea7fc9a",
   "metadata": {},
   "outputs": [
    {
     "data": {
      "text/plain": [
       "torch.Size([350, 7])"
      ]
     },
     "execution_count": 92,
     "metadata": {},
     "output_type": "execute_result"
    }
   ],
   "source": [
    "val_predictions.shape"
   ]
  },
  {
   "cell_type": "code",
   "execution_count": 89,
   "id": "6a8e4472-d309-498a-b307-850915467a9c",
   "metadata": {},
   "outputs": [],
   "source": [
    "ori_mean = pd.DataFrame(df.groupby(['sku','agency'])['volume'].mean())\n",
    "ori_mean.reset_index(inplace=True)\n",
    "check = pd.concat([ori_mean, val_predictions], axis=1)\n",
    "check.to_csv('check.csv', index=False)"
   ]
  },
  {
   "cell_type": "code",
   "execution_count": 22,
   "id": "0ab855fc-b418-4e25-8998-3ee9a653c288",
   "metadata": {},
   "outputs": [],
   "source": [
    "# select last 24 months from data (max_encoder_length is 24)\n",
    "encoder_data = df[lambda x: x.time_idx > x.time_idx.max() - max_encoder_length]\n",
    "\n",
    "# select last known data point and create decoder data from it by repeating it and incrementing the month\n",
    "# in a real world dataset, we should not just forward fill the covariates but specify them to account\n",
    "# for changes in special days and prices (which you absolutely should do but we are too lazy here)\n",
    "last_data = df[lambda x: x.time_idx == x.time_idx.max()]\n",
    "\n",
    "decoder_data = pd.concat(\n",
    "    [last_data.assign(date_var = lambda x: x[date_var] + pd.offsets.MonthBegin(i),\n",
    "                      time_idx = lambda x: x.time_idx + i) \n",
    "                    for i in range(1, max_prediction_length + 1)], ignore_index=True, )\n",
    "decoder_data.loc[:, date_var] = decoder_data['date_var']\n",
    "decoder_data.drop('date_var', axis=1, inplace=True)\n",
    "\n",
    "# adjust additional time feature(s)\n",
    "decoder_data[unit] = decoder_data[date_var].dt.month.astype(str).astype(\"category\")  # categories have be strings\n",
    "\n",
    "# combine encoder and decoder data\n",
    "new_prediction_data = pd.concat([encoder_data, decoder_data], ignore_index=True)"
   ]
  },
  {
   "cell_type": "code",
   "execution_count": 23,
   "id": "232d6d2a-02db-4e8b-9f2d-d7875fc63d76",
   "metadata": {},
   "outputs": [],
   "source": [
    "new_raw_predictions, new_x = best_tft.predict(new_prediction_data, mode=\"raw\", return_x=True)"
   ]
  },
  {
   "cell_type": "code",
   "execution_count": 37,
   "id": "006e5dae-d1c2-4e86-b717-6f306458ad5a",
   "metadata": {},
   "outputs": [
    {
     "data": {
      "image/png": "[encoded data removed]",
      "text/plain": [
       "<Figure size 432x288 with 2 Axes>"
      ]
     },
     "metadata": {
      "needs_background": "light"
     },
     "output_type": "display_data"
    }
   ],
   "source": [
    "for idx in range(1):  # plot 10 examples\n",
    "    best_tft.plot_prediction(new_x, new_raw_predictions, idx=idx, show_future_observed=False);"
   ]
  },
  {
   "cell_type": "code",
   "execution_count": 45,
   "id": "0d72308d-379f-43d5-b9af-c3423af644c4",
   "metadata": {},
   "outputs": [
    {
     "data": {
      "text/plain": [
       "<bound method TemporalFusionTransformer.from_dataset of <class 'pytorch_forecasting.models.temporal_fusion_transformer.TemporalFusionTransformer'>>"
      ]
     },
     "execution_count": 45,
     "metadata": {},
     "output_type": "execute_result"
    }
   ],
   "source": [
    "best_tft.from_dataset"
   ]
  },
  {
   "cell_type": "code",
   "execution_count": null,
   "id": "4a3cdece-64a7-487d-be42-314ad68ab5c8",
   "metadata": {},
   "outputs": [],
   "source": []
  }
 ],
 "metadata": {
  "kernelspec": {
   "display_name": "Python 3 (ipykernel)",
   "language": "python",
   "name": "python3"
  },
  "language_info": {
   "codemirror_mode": {
    "name": "ipython",
    "version": 3
   },
   "file_extension": ".py",
   "mimetype": "text/x-python",
   "name": "python",
   "nbconvert_exporter": "python",
   "pygments_lexer": "ipython3",
   "version": "3.7.11"
  }
 },
 "nbformat": 4,
 "nbformat_minor": 5
}
