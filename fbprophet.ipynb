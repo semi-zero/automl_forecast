{
 "cells": [
  {
   "cell_type": "code",
   "execution_count": 4,
   "id": "ed5497f8-0b80-4409-aeff-e958ebe60906",
   "metadata": {},
   "outputs": [],
   "source": [
    "import matplotlib.pyplot as plt\n",
    "import seaborn as sns\n",
    "from datetime import datetime, timedelta\n",
    "import warnings\n",
    "\n",
    "import argparse\n",
    "import logging\n",
    "import pandas as pd\n",
    "import random\n",
    "import os\n",
    "import numpy as np\n",
    "from loggers import logger\n",
    "\n",
    "from process import input_data, preprocess\n",
    "\n",
    "def set_logger(log_name):\n",
    "    log_obj = logger.AutoMLLog(log_name)\n",
    "    log_obj.set_handler('automl_process')\n",
    "    log_obj.set_formats()\n",
    "    auto_logger = log_obj.addOn()\n",
    "    \n",
    "    auto_logger.info('logger 세팅')"
   ]
  },
  {
   "cell_type": "code",
   "execution_count": 2,
   "id": "12804722-b3db-4487-95ea-6d0486327e08",
   "metadata": {},
   "outputs": [],
   "source": [
    "#데이터 인코딩 문제"
   ]
  },
  {
   "cell_type": "code",
   "execution_count": 5,
   "id": "3445c80f-833a-4353-981e-aa34fa2b090b",
   "metadata": {},
   "outputs": [
    {
     "name": "stderr",
     "output_type": "stream",
     "text": [
      "logger 세팅\n",
      "csv 데이터 불러오기\n",
      "storage/Walmart.csv\n",
      "데이터 구성: 6435 행, 8열\n",
      "Memory usage of dataframe is 0.39MB\n",
      "Memory usage after optimization is: 0.10MB\n",
      "Decreased by 73.7%\n",
      "결측치 처리\n",
      "결측치 처리 이후 데이터 구성: 6435 행, 8열\n",
      "전처리를 위한 target, date, store 분리\n",
      "정규화 진행\n",
      "라벨 인코딩 진행\n",
      "전처리 완료\n",
      "\n",
      "\n",
      "   Temperature  Fuel_Price       CPI  Unemployment  Holiday_Flag  \\\n",
      "0    -0.995605   -1.712891  1.004883      0.058716     -0.274170   \n",
      "1    -1.202148   -1.763672  1.007812      0.058716      3.646484   \n",
      "2    -1.124023   -1.840820  1.007812      0.058716     -0.274170   \n",
      "3    -0.761230   -1.738281  1.010742      0.058716     -0.274170   \n",
      "4    -0.768066   -1.597656  1.010742      0.058716     -0.274170   \n",
      "\n",
      "   Weekly_Sales        Date  Store  \n",
      "0   1643690.875  05-02-2010      1  \n",
      "1   1641957.500  12-02-2010      1  \n",
      "2   1611968.125  19-02-2010      1  \n",
      "3   1409727.625  26-02-2010      1  \n",
      "4   1554806.625  05-03-2010      1  \n",
      "시계열용 전처리 진행\n",
      "시계열 전처리 후 df\n",
      "   Temperature  Fuel_Price       CPI  Unemployment  Holiday_Flag  \\\n",
      "0     0.607910   -1.644531  1.017578     -0.085022      -0.27417   \n",
      "1     0.087708   -1.393555  0.998047     -0.101624      -0.27417   \n",
      "2     1.098633   -1.500000  1.007812     -0.114136      -0.27417   \n",
      "3    -1.124023   -1.840820  1.007812      0.058716      -0.27417   \n",
      "4    -0.761230   -1.738281  1.010742      0.058716      -0.27417   \n",
      "\n",
      "   Weekly_Sales       Date Store  time_idx week  \n",
      "0   1453329.500 2010-01-10     1         0    1  \n",
      "1   1594968.250 2010-02-04     1         1    5  \n",
      "2   1492418.125 2010-02-07     1         2    5  \n",
      "3   1611968.125 2010-02-19     1         3    7  \n",
      "4   1409727.625 2010-02-26     1         4    8  \n"
     ]
    }
   ],
   "source": [
    "log_name = 'practice'\n",
    "set_logger(log_name)\n",
    "data, var_list, num_var, obj_var = input_data.Data_load('storage/Walmart.csv', log_name).read_data()\n",
    "df = preprocess.Preprocessing(log_name, data, var_list, num_var, obj_var, target='Weekly_Sales', date_var= 'Date', store_list=['Store'], unit='week').df"
   ]
  },
  {
   "cell_type": "code",
   "execution_count": 7,
   "id": "368299f9-b85e-4f30-b3a7-68bf3bf735d3",
   "metadata": {},
   "outputs": [],
   "source": [
    "train_test = pd.DataFrame()\n",
    "train_test['ds'] = df['Date']\n",
    "train_test['y'] = 0"
   ]
  },
  {
   "cell_type": "code",
   "execution_count": 10,
   "id": "3d4e9bf9-4115-4e5a-9463-bbc77552f166",
   "metadata": {},
   "outputs": [],
   "source": [
    "from fbprophet import Prophet\n",
    "from fbprophet.diagnostics import cross_validation\n",
    "from fbprophet.diagnostics import performance_metrics\n",
    "import optuna\n",
    "\n",
    "from sklearn.metrics import mean_absolute_error\n",
    "from sklearn.metrics import mean_squared_error\n",
    "from sklearn.metrics import r2_score"
   ]
  },
  {
   "cell_type": "code",
   "execution_count": 9,
   "id": "ef590f99-b78c-4d48-94c0-9641e17d88bc",
   "metadata": {},
   "outputs": [
    {
     "ename": "NameError",
     "evalue": "name 'x_df' is not defined",
     "output_type": "error",
     "traceback": [
      "\u001b[1;31m---------------------------------------------------------------------------\u001b[0m",
      "\u001b[1;31mNameError\u001b[0m                                 Traceback (most recent call last)",
      "\u001b[1;32m~\\AppData\\Local\\Temp\\ipykernel_11960\\3505179480.py\u001b[0m in \u001b[0;36m<module>\u001b[1;34m\u001b[0m\n\u001b[0;32m      6\u001b[0m                   \u001b[0myearly_seasonality\u001b[0m\u001b[1;33m=\u001b[0m\u001b[1;32mFalse\u001b[0m\u001b[1;33m,\u001b[0m\u001b[1;33m\u001b[0m\u001b[1;33m\u001b[0m\u001b[0m\n\u001b[0;32m      7\u001b[0m                   weekly_seasonality=False, daily_seasonality=False)\n\u001b[1;32m----> 8\u001b[1;33m \u001b[0mprophet\u001b[0m\u001b[1;33m.\u001b[0m\u001b[0mfit\u001b[0m\u001b[1;33m(\u001b[0m\u001b[0mx_df\u001b[0m\u001b[1;33m)\u001b[0m\u001b[1;33m\u001b[0m\u001b[1;33m\u001b[0m\u001b[0m\n\u001b[0m",
      "\u001b[1;31mNameError\u001b[0m: name 'x_df' is not defined"
     ]
    }
   ],
   "source": [
    "\n",
    "prophet = Prophet(seasonality_mode='multiplicative', \n",
    "                  yearly_seasonality=False,\n",
    "                  weekly_seasonality=False, daily_seasonality=False)\n",
    "prophet.fit(x_df)"
   ]
  },
  {
   "cell_type": "code",
   "execution_count": null,
   "id": "6a6bd93a-e048-4cb7-a0a5-cb8326c6eeb2",
   "metadata": {},
   "outputs": [],
   "source": []
  }
 ],
 "metadata": {
  "kernelspec": {
   "display_name": "Python 3 (ipykernel)",
   "language": "python",
   "name": "python3"
  },
  "language_info": {
   "codemirror_mode": {
    "name": "ipython",
    "version": 3
   },
   "file_extension": ".py",
   "mimetype": "text/x-python",
   "name": "python",
   "nbconvert_exporter": "python",
   "pygments_lexer": "ipython3",
   "version": "3.7.11"
  }
 },
 "nbformat": 4,
 "nbformat_minor": 5
}
